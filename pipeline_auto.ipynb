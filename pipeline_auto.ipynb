{
  "cells": [
    {
      "attachments": {},
      "cell_type": "markdown",
      "source": [
        "# Pipelines"
      ],
      "metadata": {}
    },
    {
      "attachments": {},
      "cell_type": "markdown",
      "source": [
        "# Setup"
      ],
      "metadata": {}
    },
    {
      "cell_type": "markdown",
      "source": [
        "**General Imports**"
      ],
      "metadata": {}
    },
    {
      "cell_type": "code",
      "source": [
        "import logging # Importing the logging module for logging purposes\n",
        "import json # Importing the json module for working with JSON data"
      ],
      "outputs": [],
      "execution_count": 1,
      "metadata": {
        "gather": {
          "logged": 1686920666996
        }
      }
    },
    {
      "cell_type": "markdown",
      "source": [
        "**Azure ML imports**"
      ],
      "metadata": {}
    },
    {
      "cell_type": "code",
      "source": [
        "pip install azureml"
      ],
      "outputs": [
        {
          "output_type": "stream",
          "name": "stdout",
          "text": "Collecting azureml\n  Downloading azureml-0.2.7-py2.py3-none-any.whl (23 kB)\nRequirement already satisfied: python-dateutil in /anaconda/envs/azureml_py310_sdkv2/lib/python3.10/site-packages (from azureml) (2.8.2)\nRequirement already satisfied: requests in /anaconda/envs/azureml_py310_sdkv2/lib/python3.10/site-packages (from azureml) (2.28.2)\nRequirement already satisfied: pandas in /anaconda/envs/azureml_py310_sdkv2/lib/python3.10/site-packages (from azureml) (2.0.0)\nRequirement already satisfied: numpy>=1.21.0 in /anaconda/envs/azureml_py310_sdkv2/lib/python3.10/site-packages (from pandas->azureml) (1.24.2)\nRequirement already satisfied: pytz>=2020.1 in /anaconda/envs/azureml_py310_sdkv2/lib/python3.10/site-packages (from pandas->azureml) (2023.3)\nRequirement already satisfied: tzdata>=2022.1 in /anaconda/envs/azureml_py310_sdkv2/lib/python3.10/site-packages (from pandas->azureml) (2023.3)\nRequirement already satisfied: six>=1.5 in /anaconda/envs/azureml_py310_sdkv2/lib/python3.10/site-packages (from python-dateutil->azureml) (1.16.0)\nRequirement already satisfied: certifi>=2017.4.17 in /anaconda/envs/azureml_py310_sdkv2/lib/python3.10/site-packages (from requests->azureml) (2022.12.7)\nRequirement already satisfied: charset-normalizer<4,>=2 in /anaconda/envs/azureml_py310_sdkv2/lib/python3.10/site-packages (from requests->azureml) (3.1.0)\nRequirement already satisfied: idna<4,>=2.5 in /anaconda/envs/azureml_py310_sdkv2/lib/python3.10/site-packages (from requests->azureml) (3.4)\nRequirement already satisfied: urllib3<1.27,>=1.21.1 in /anaconda/envs/azureml_py310_sdkv2/lib/python3.10/site-packages (from requests->azureml) (1.26.15)\nInstalling collected packages: azureml\nSuccessfully installed azureml-0.2.7\nNote: you may need to restart the kernel to use updated packages.\n"
        }
      ],
      "execution_count": 2,
      "metadata": {
        "jupyter": {
          "source_hidden": false,
          "outputs_hidden": false
        },
        "nteract": {
          "transient": {
            "deleting": false
          }
        },
        "gather": {
          "logged": 1686920681358
        }
      }
    },
    {
      "cell_type": "code",
      "source": [
        "pip install --upgrade azureml-sdk"
      ],
      "outputs": [
        {
          "output_type": "stream",
          "name": "stdout",
          "text": "Collecting azureml-sdk\n  Downloading azureml_sdk-1.51.0-py3-none-any.whl (2.7 kB)\nCollecting azureml-dataset-runtime[fuse]~=1.51.0\n  Downloading azureml_dataset_runtime-1.51.0-py3-none-any.whl (2.3 kB)\nCollecting azureml-pipeline~=1.51.0\n  Downloading azureml_pipeline-1.51.0-py3-none-any.whl (2.4 kB)\nCollecting azureml-train-core~=1.51.0\n  Downloading azureml_train_core-1.51.0-py3-none-any.whl (8.6 MB)\n\u001b[2K     \u001b[90m━━━━━━━━━━━━━━━━━━━━━━━━━━━━━━━━━━━━━━━━\u001b[0m \u001b[32m8.6/8.6 MB\u001b[0m \u001b[31m25.7 MB/s\u001b[0m eta \u001b[36m0:00:00\u001b[0m00:01\u001b[0m00:01\u001b[0m\n\u001b[?25hCollecting azureml-train-automl-client~=1.51.0\n  Downloading azureml_train_automl_client-1.51.0.post1-py3-none-any.whl (136 kB)\n\u001b[2K     \u001b[90m━━━━━━━━━━━━━━━━━━━━━━━━━━━━━━━━━━━━━━━\u001b[0m \u001b[32m136.5/136.5 kB\u001b[0m \u001b[31m5.3 MB/s\u001b[0m eta \u001b[36m0:00:00\u001b[0m\n\u001b[?25hCollecting azureml-core~=1.51.0\n  Downloading azureml_core-1.51.0.post1-py3-none-any.whl (3.3 MB)\n\u001b[2K     \u001b[90m━━━━━━━━━━━━━━━━━━━━━━━━━━━━━━━━━━━━━━━━\u001b[0m \u001b[32m3.3/3.3 MB\u001b[0m \u001b[31m26.3 MB/s\u001b[0m eta \u001b[36m0:00:00\u001b[0m00:01\u001b[0m00:01\u001b[0m\n\u001b[?25hRequirement already satisfied: python-dateutil<3.0.0,>=2.7.3 in /anaconda/envs/azureml_py310_sdkv2/lib/python3.10/site-packages (from azureml-core~=1.51.0->azureml-sdk) (2.8.2)\nRequirement already satisfied: jsonpickle<4.0.0 in /anaconda/envs/azureml_py310_sdkv2/lib/python3.10/site-packages (from azureml-core~=1.51.0->azureml-sdk) (2.2.0)\nRequirement already satisfied: docker<7.0.0 in /anaconda/envs/azureml_py310_sdkv2/lib/python3.10/site-packages (from azureml-core~=1.51.0->azureml-sdk) (6.0.1)\nRequirement already satisfied: msal-extensions<=1.0.0,>=0.3.0 in /anaconda/envs/azureml_py310_sdkv2/lib/python3.10/site-packages (from azureml-core~=1.51.0->azureml-sdk) (1.0.0)\nRequirement already satisfied: azure-mgmt-resource<=22.0.0,>=15.0.0 in /anaconda/envs/azureml_py310_sdkv2/lib/python3.10/site-packages (from azureml-core~=1.51.0->azureml-sdk) (21.2.1)\nRequirement already satisfied: azure-mgmt-authorization<4,>=0.40.0 in /anaconda/envs/azureml_py310_sdkv2/lib/python3.10/site-packages (from azureml-core~=1.51.0->azureml-sdk) (3.0.0)\nRequirement already satisfied: msrestazure<=0.6.4,>=0.4.33 in /anaconda/envs/azureml_py310_sdkv2/lib/python3.10/site-packages (from azureml-core~=1.51.0->azureml-sdk) (0.6.4)\nRequirement already satisfied: SecretStorage<4.0.0 in /anaconda/envs/azureml_py310_sdkv2/lib/python3.10/site-packages (from azureml-core~=1.51.0->azureml-sdk) (3.3.3)\nRequirement already satisfied: argcomplete<3 in /anaconda/envs/azureml_py310_sdkv2/lib/python3.10/site-packages (from azureml-core~=1.51.0->azureml-sdk) (2.1.2)\nRequirement already satisfied: msal<2.0.0,>=1.15.0 in /anaconda/envs/azureml_py310_sdkv2/lib/python3.10/site-packages (from azureml-core~=1.51.0->azureml-sdk) (1.21.0)\nRequirement already satisfied: knack~=0.10.0 in /anaconda/envs/azureml_py310_sdkv2/lib/python3.10/site-packages (from azureml-core~=1.51.0->azureml-sdk) (0.10.1)\nRequirement already satisfied: azure-mgmt-containerregistry<11,>=8.2.0 in /anaconda/envs/azureml_py310_sdkv2/lib/python3.10/site-packages (from azureml-core~=1.51.0->azureml-sdk) (10.1.0)\nRequirement already satisfied: requests[socks]<3.0.0,>=2.19.1 in /anaconda/envs/azureml_py310_sdkv2/lib/python3.10/site-packages (from azureml-core~=1.51.0->azureml-sdk) (2.28.2)\nRequirement already satisfied: urllib3<2.0.0,>=1.23 in /anaconda/envs/azureml_py310_sdkv2/lib/python3.10/site-packages (from azureml-core~=1.51.0->azureml-sdk) (1.26.15)\nRequirement already satisfied: adal<=1.2.7,>=1.2.0 in /anaconda/envs/azureml_py310_sdkv2/lib/python3.10/site-packages (from azureml-core~=1.51.0->azureml-sdk) (1.2.7)\nRequirement already satisfied: pathspec<1.0.0 in /anaconda/envs/azureml_py310_sdkv2/lib/python3.10/site-packages (from azureml-core~=1.51.0->azureml-sdk) (0.11.1)\nRequirement already satisfied: pytz in /anaconda/envs/azureml_py310_sdkv2/lib/python3.10/site-packages (from azureml-core~=1.51.0->azureml-sdk) (2023.3)\nRequirement already satisfied: azure-common<2.0.0,>=1.1.12 in /anaconda/envs/azureml_py310_sdkv2/lib/python3.10/site-packages (from azureml-core~=1.51.0->azureml-sdk) (1.1.28)\nRequirement already satisfied: ndg-httpsclient<=0.5.1 in /anaconda/envs/azureml_py310_sdkv2/lib/python3.10/site-packages (from azureml-core~=1.51.0->azureml-sdk) (0.5.1)\nCollecting cryptography!=1.9,!=2.0.*,!=2.1.*,!=2.2.*,>=41\n  Downloading cryptography-41.0.1-cp37-abi3-manylinux_2_28_x86_64.whl (4.3 MB)\n\u001b[2K     \u001b[90m━━━━━━━━━━━━━━━━━━━━━━━━━━━━━━━━━━━━━━━━\u001b[0m \u001b[32m4.3/4.3 MB\u001b[0m \u001b[31m33.2 MB/s\u001b[0m eta \u001b[36m0:00:00\u001b[0m00:01\u001b[0m00:01\u001b[0m\n\u001b[?25hRequirement already satisfied: azure-mgmt-keyvault<11.0.0,>=0.40.0 in /anaconda/envs/azureml_py310_sdkv2/lib/python3.10/site-packages (from azureml-core~=1.51.0->azureml-sdk) (10.2.1)\nRequirement already satisfied: jmespath<2.0.0 in /anaconda/envs/azureml_py310_sdkv2/lib/python3.10/site-packages (from azureml-core~=1.51.0->azureml-sdk) (1.0.1)\nRequirement already satisfied: azure-core<2.0.0 in /anaconda/envs/azureml_py310_sdkv2/lib/python3.10/site-packages (from azureml-core~=1.51.0->azureml-sdk) (1.26.4)\nRequirement already satisfied: paramiko<4.0.0,>=2.0.8 in /anaconda/envs/azureml_py310_sdkv2/lib/python3.10/site-packages (from azureml-core~=1.51.0->azureml-sdk) (2.12.0)\nRequirement already satisfied: pyopenssl<24.0.0 in /anaconda/envs/azureml_py310_sdkv2/lib/python3.10/site-packages (from azureml-core~=1.51.0->azureml-sdk) (23.1.1)\nRequirement already satisfied: PyJWT<3.0.0 in /anaconda/envs/azureml_py310_sdkv2/lib/python3.10/site-packages (from azureml-core~=1.51.0->azureml-sdk) (2.6.0)\nRequirement already satisfied: contextlib2<22.0.0 in /anaconda/envs/azureml_py310_sdkv2/lib/python3.10/site-packages (from azureml-core~=1.51.0->azureml-sdk) (21.6.0)\nRequirement already satisfied: msrest<=0.7.1,>=0.5.1 in /anaconda/envs/azureml_py310_sdkv2/lib/python3.10/site-packages (from azureml-core~=1.51.0->azureml-sdk) (0.7.1)\nRequirement already satisfied: humanfriendly<11.0,>=4.7 in /anaconda/envs/azureml_py310_sdkv2/lib/python3.10/site-packages (from azureml-core~=1.51.0->azureml-sdk) (10.0)\nRequirement already satisfied: azure-graphrbac<1.0.0,>=0.40.0 in /anaconda/envs/azureml_py310_sdkv2/lib/python3.10/site-packages (from azureml-core~=1.51.0->azureml-sdk) (0.61.1)\nRequirement already satisfied: backports.tempfile in /anaconda/envs/azureml_py310_sdkv2/lib/python3.10/site-packages (from azureml-core~=1.51.0->azureml-sdk) (1.0)\nRequirement already satisfied: packaging<=23.0,>=20.0 in /anaconda/envs/azureml_py310_sdkv2/lib/python3.10/site-packages (from azureml-core~=1.51.0->azureml-sdk) (21.3)\nRequirement already satisfied: azure-mgmt-storage<=21.0.0,>=16.0.0 in /anaconda/envs/azureml_py310_sdkv2/lib/python3.10/site-packages (from azureml-core~=1.51.0->azureml-sdk) (20.1.0)\nRequirement already satisfied: pkginfo in /anaconda/envs/azureml_py310_sdkv2/lib/python3.10/site-packages (from azureml-core~=1.51.0->azureml-sdk) (1.9.6)\nCollecting numpy!=1.19.3,<1.24\n  Downloading numpy-1.23.5-cp310-cp310-manylinux_2_17_x86_64.manylinux2014_x86_64.whl (17.1 MB)\n\u001b[2K     \u001b[90m━━━━━━━━━━━━━━━━━━━━━━━━━━━━━━━━━━━━━━━━\u001b[0m \u001b[32m17.1/17.1 MB\u001b[0m \u001b[31m23.3 MB/s\u001b[0m eta \u001b[36m0:00:00\u001b[0m00:01\u001b[0m00:01\u001b[0m\n\u001b[?25hCollecting azureml-dataprep<4.11.0a,>=4.10.0a\n  Downloading azureml_dataprep-4.10.8-py3-none-any.whl (38.2 MB)\n\u001b[2K     \u001b[90m━━━━━━━━━━━━━━━━━━━━━━━━━━━━━━━━━━━━━━━━\u001b[0m \u001b[32m38.2/38.2 MB\u001b[0m \u001b[31m13.2 MB/s\u001b[0m eta \u001b[36m0:00:00\u001b[0m00:01\u001b[0m00:01\u001b[0m\n\u001b[?25hCollecting pyarrow<=9.0.0,>=0.17.0\n  Downloading pyarrow-9.0.0-cp310-cp310-manylinux_2_17_x86_64.manylinux2014_x86_64.whl (35.3 MB)\n\u001b[2K     \u001b[90m━━━━━━━━━━━━━━━━━━━━━━━━━━━━━━━━━━━━━━━━\u001b[0m \u001b[32m35.3/35.3 MB\u001b[0m \u001b[31m12.4 MB/s\u001b[0m eta \u001b[36m0:00:00\u001b[0m00:01\u001b[0m00:01\u001b[0m\n\u001b[?25hCollecting fusepy<4.0.0,>=3.0.1\n  Downloading fusepy-3.0.1.tar.gz (11 kB)\n  Preparing metadata (setup.py) ... \u001b[?25l-\b \bdone\n\u001b[?25hCollecting azureml-pipeline-core~=1.51.0\n  Downloading azureml_pipeline_core-1.51.0-py3-none-any.whl (313 kB)\n\u001b[2K     \u001b[90m━━━━━━━━━━━━━━━━━━━━━━━━━━━━━━━━━━━━━━\u001b[0m \u001b[32m313.1/313.1 kB\u001b[0m \u001b[31m14.1 MB/s\u001b[0m eta \u001b[36m0:00:00\u001b[0m\n\u001b[?25hCollecting azureml-pipeline-steps~=1.51.0\n  Downloading azureml_pipeline_steps-1.51.0-py3-none-any.whl (69 kB)\n\u001b[2K     \u001b[90m━━━━━━━━━━━━━━━━━━━━━━━━━━━━━━━━━━━━━━━━\u001b[0m \u001b[32m69.5/69.5 kB\u001b[0m \u001b[31m2.5 MB/s\u001b[0m eta \u001b[36m0:00:00\u001b[0m\n\u001b[?25hCollecting azureml-automl-core~=1.51.0\n  Downloading azureml_automl_core-1.51.0.post1-py3-none-any.whl (247 kB)\n\u001b[2K     \u001b[90m━━━━━━━━━━━━━━━━━━━━━━━━━━━━━━━━━━━━━━\u001b[0m \u001b[32m247.2/247.2 kB\u001b[0m \u001b[31m10.7 MB/s\u001b[0m eta \u001b[36m0:00:00\u001b[0m\n\u001b[?25hCollecting azureml-telemetry~=1.51.0\n  Downloading azureml_telemetry-1.51.0-py3-none-any.whl (30 kB)\nCollecting azureml-train-restclients-hyperdrive~=1.51.0\n  Downloading azureml_train_restclients_hyperdrive-1.51.0-py3-none-any.whl (18 kB)\nRequirement already satisfied: typing-extensions>=4.3.0 in /anaconda/envs/azureml_py310_sdkv2/lib/python3.10/site-packages (from azure-core<2.0.0->azureml-core~=1.51.0->azureml-sdk) (4.5.0)\nRequirement already satisfied: six>=1.11.0 in /anaconda/envs/azureml_py310_sdkv2/lib/python3.10/site-packages (from azure-core<2.0.0->azureml-core~=1.51.0->azureml-sdk) (1.16.0)\nRequirement already satisfied: azure-mgmt-core<2.0.0,>=1.3.2 in /anaconda/envs/azureml_py310_sdkv2/lib/python3.10/site-packages (from azure-mgmt-authorization<4,>=0.40.0->azureml-core~=1.51.0->azureml-sdk) (1.4.0)\nRequirement already satisfied: isodate<1.0.0,>=0.6.1 in /anaconda/envs/azureml_py310_sdkv2/lib/python3.10/site-packages (from azure-mgmt-keyvault<11.0.0,>=0.40.0->azureml-core~=1.51.0->azureml-sdk) (0.6.1)\nRequirement already satisfied: azureml-dataprep-native<39.0.0,>=38.0.0 in /anaconda/envs/azureml_py310_sdkv2/lib/python3.10/site-packages (from azureml-dataprep<4.11.0a,>=4.10.0a->azureml-dataset-runtime[fuse]~=1.51.0->azureml-sdk) (38.0.0)\nCollecting azureml-dataprep-rslex~=2.17.12dev0\n  Downloading azureml_dataprep_rslex-2.17.12-cp310-cp310-manylinux_2_17_x86_64.manylinux2014_x86_64.whl (20.3 MB)\n\u001b[2K     \u001b[90m━━━━━━━━━━━━━━━━━━━━━━━━━━━━━━━━━━━━━━━━\u001b[0m \u001b[32m20.3/20.3 MB\u001b[0m \u001b[31m23.4 MB/s\u001b[0m eta \u001b[36m0:00:00\u001b[0m00:01\u001b[0m00:01\u001b[0m\n\u001b[?25hRequirement already satisfied: pyyaml<7.0.0,>=5.1.0 in /anaconda/envs/azureml_py310_sdkv2/lib/python3.10/site-packages (from azureml-dataprep<4.11.0a,>=4.10.0a->azureml-dataset-runtime[fuse]~=1.51.0->azureml-sdk) (6.0)\nRequirement already satisfied: cloudpickle<3.0.0,>=1.1.0 in /anaconda/envs/azureml_py310_sdkv2/lib/python3.10/site-packages (from azureml-dataprep<4.11.0a,>=4.10.0a->azureml-dataset-runtime[fuse]~=1.51.0->azureml-sdk) (2.2.1)\nRequirement already satisfied: azure-identity>=1.7.0 in /anaconda/envs/azureml_py310_sdkv2/lib/python3.10/site-packages (from azureml-dataprep<4.11.0a,>=4.10.0a->azureml-dataset-runtime[fuse]~=1.51.0->azureml-sdk) (1.12.0)\nRequirement already satisfied: jsonschema in /anaconda/envs/azureml_py310_sdkv2/lib/python3.10/site-packages (from azureml-dataprep<4.11.0a,>=4.10.0a->azureml-dataset-runtime[fuse]~=1.51.0->azureml-sdk) (4.17.3)\nRequirement already satisfied: dotnetcore2<4.0.0,>=3.0.0 in /anaconda/envs/azureml_py310_sdkv2/lib/python3.10/site-packages (from azureml-dataprep<4.11.0a,>=4.10.0a->azureml-dataset-runtime[fuse]~=1.51.0->azureml-sdk) (3.1.23)\nCollecting applicationinsights\n  Downloading applicationinsights-0.11.10-py2.py3-none-any.whl (55 kB)\n\u001b[2K     \u001b[90m━━━━━━━━━━━━━━━━━━━━━━━━━━━━━━━━━━━━━━━━\u001b[0m \u001b[32m55.1/55.1 kB\u001b[0m \u001b[31m2.5 MB/s\u001b[0m eta \u001b[36m0:00:00\u001b[0m\n\u001b[?25hRequirement already satisfied: cffi>=1.12 in /anaconda/envs/azureml_py310_sdkv2/lib/python3.10/site-packages (from cryptography!=1.9,!=2.0.*,!=2.1.*,!=2.2.*,>=41->azureml-core~=1.51.0->azureml-sdk) (1.15.1)\nRequirement already satisfied: websocket-client>=0.32.0 in /anaconda/envs/azureml_py310_sdkv2/lib/python3.10/site-packages (from docker<7.0.0->azureml-core~=1.51.0->azureml-sdk) (1.5.1)\nRequirement already satisfied: pygments in /anaconda/envs/azureml_py310_sdkv2/lib/python3.10/site-packages (from knack~=0.10.0->azureml-core~=1.51.0->azureml-sdk) (2.11.2)\nRequirement already satisfied: tabulate in /anaconda/envs/azureml_py310_sdkv2/lib/python3.10/site-packages (from knack~=0.10.0->azureml-core~=1.51.0->azureml-sdk) (0.9.0)\nCollecting msal<2.0.0,>=1.15.0\n  Downloading msal-1.22.0-py2.py3-none-any.whl (90 kB)\n\u001b[2K     \u001b[90m━━━━━━━━━━━━━━━━━━━━━━━━━━━━━━━━━━━━━━━━\u001b[0m \u001b[32m90.0/90.0 kB\u001b[0m \u001b[31m3.7 MB/s\u001b[0m eta \u001b[36m0:00:00\u001b[0m\n\u001b[?25hRequirement already satisfied: portalocker<3,>=1.0 in /anaconda/envs/azureml_py310_sdkv2/lib/python3.10/site-packages (from msal-extensions<=1.0.0,>=0.3.0->azureml-core~=1.51.0->azureml-sdk) (2.7.0)\nRequirement already satisfied: requests-oauthlib>=0.5.0 in /anaconda/envs/azureml_py310_sdkv2/lib/python3.10/site-packages (from msrest<=0.7.1,>=0.5.1->azureml-core~=1.51.0->azureml-sdk) (1.3.1)\nRequirement already satisfied: certifi>=2017.4.17 in /anaconda/envs/azureml_py310_sdkv2/lib/python3.10/site-packages (from msrest<=0.7.1,>=0.5.1->azureml-core~=1.51.0->azureml-sdk) (2022.12.7)\nRequirement already satisfied: pyasn1>=0.1.1 in /anaconda/envs/azureml_py310_sdkv2/lib/python3.10/site-packages (from ndg-httpsclient<=0.5.1->azureml-core~=1.51.0->azureml-sdk) (0.4.8)\nRequirement already satisfied: pyparsing!=3.0.5,>=2.0.2 in /anaconda/envs/azureml_py310_sdkv2/lib/python3.10/site-packages (from packaging<=23.0,>=20.0->azureml-core~=1.51.0->azureml-sdk) (3.0.9)\nRequirement already satisfied: pynacl>=1.0.1 in /anaconda/envs/azureml_py310_sdkv2/lib/python3.10/site-packages (from paramiko<4.0.0,>=2.0.8->azureml-core~=1.51.0->azureml-sdk) (1.5.0)\nRequirement already satisfied: bcrypt>=3.1.3 in /anaconda/envs/azureml_py310_sdkv2/lib/python3.10/site-packages (from paramiko<4.0.0,>=2.0.8->azureml-core~=1.51.0->azureml-sdk) (4.0.1)\nCollecting pyopenssl<24.0.0\n  Downloading pyOpenSSL-23.2.0-py3-none-any.whl (59 kB)\n\u001b[2K     \u001b[90m━━━━━━━━━━━━━━━━━━━━━━━━━━━━━━━━━━━━━━━━\u001b[0m \u001b[32m59.0/59.0 kB\u001b[0m \u001b[31m2.2 MB/s\u001b[0m eta \u001b[36m0:00:00\u001b[0m\n\u001b[?25hRequirement already satisfied: charset-normalizer<4,>=2 in /anaconda/envs/azureml_py310_sdkv2/lib/python3.10/site-packages (from requests[socks]<3.0.0,>=2.19.1->azureml-core~=1.51.0->azureml-sdk) (3.1.0)\nRequirement already satisfied: idna<4,>=2.5 in /anaconda/envs/azureml_py310_sdkv2/lib/python3.10/site-packages (from requests[socks]<3.0.0,>=2.19.1->azureml-core~=1.51.0->azureml-sdk) (3.4)\nRequirement already satisfied: PySocks!=1.5.7,>=1.5.6 in /anaconda/envs/azureml_py310_sdkv2/lib/python3.10/site-packages (from requests[socks]<3.0.0,>=2.19.1->azureml-core~=1.51.0->azureml-sdk) (1.7.1)\nRequirement already satisfied: jeepney>=0.6 in /anaconda/envs/azureml_py310_sdkv2/lib/python3.10/site-packages (from SecretStorage<4.0.0->azureml-core~=1.51.0->azureml-sdk) (0.8.0)\nRequirement already satisfied: backports.weakref in /anaconda/envs/azureml_py310_sdkv2/lib/python3.10/site-packages (from backports.tempfile->azureml-core~=1.51.0->azureml-sdk) (1.0.post1)\nRequirement already satisfied: pycparser in /anaconda/envs/azureml_py310_sdkv2/lib/python3.10/site-packages (from cffi>=1.12->cryptography!=1.9,!=2.0.*,!=2.1.*,!=2.2.*,>=41->azureml-core~=1.51.0->azureml-sdk) (2.21)\nRequirement already satisfied: distro>=1.2.0 in /anaconda/envs/azureml_py310_sdkv2/lib/python3.10/site-packages (from dotnetcore2<4.0.0,>=3.0.0->azureml-dataprep<4.11.0a,>=4.10.0a->azureml-dataset-runtime[fuse]~=1.51.0->azureml-sdk) (1.8.0)\nRequirement already satisfied: oauthlib>=3.0.0 in /anaconda/envs/azureml_py310_sdkv2/lib/python3.10/site-packages (from requests-oauthlib>=0.5.0->msrest<=0.7.1,>=0.5.1->azureml-core~=1.51.0->azureml-sdk) (3.2.2)\nRequirement already satisfied: pyrsistent!=0.17.0,!=0.17.1,!=0.17.2,>=0.14.0 in /anaconda/envs/azureml_py310_sdkv2/lib/python3.10/site-packages (from jsonschema->azureml-dataprep<4.11.0a,>=4.10.0a->azureml-dataset-runtime[fuse]~=1.51.0->azureml-sdk) (0.19.3)\nRequirement already satisfied: attrs>=17.4.0 in /anaconda/envs/azureml_py310_sdkv2/lib/python3.10/site-packages (from jsonschema->azureml-dataprep<4.11.0a,>=4.10.0a->azureml-dataset-runtime[fuse]~=1.51.0->azureml-sdk) (22.2.0)\nBuilding wheels for collected packages: fusepy\n  Building wheel for fusepy (setup.py) ... \u001b[?25l-\b \b\\\b \b|\b \b/\b \bdone\n\u001b[?25h  Created wheel for fusepy: filename=fusepy-3.0.1-py3-none-any.whl size=10486 sha256=37bd462d71dccb0de82df4009851b6a8ea127bf05e8622ebf605b23a38eb5cd9\n  Stored in directory: /home/azureuser/.cache/pip/wheels/c0/18/f6/f0d6be9d0435e2677ce5cc758e91da50053dce456a346f08c5\nSuccessfully built fusepy\nInstalling collected packages: fusepy, azureml-dataprep-rslex, applicationinsights, numpy, pyarrow, cryptography, pyopenssl, msal, azureml-train-restclients-hyperdrive, azureml-core, azureml-telemetry, azureml-pipeline-core, azureml-dataprep, azureml-train-core, azureml-dataset-runtime, azureml-automl-core, azureml-train-automl-client, azureml-pipeline-steps, azureml-pipeline, azureml-sdk\n  Attempting uninstall: azureml-dataprep-rslex\n    Found existing installation: azureml-dataprep-rslex 2.16.4\n    Uninstalling azureml-dataprep-rslex-2.16.4:\n      Successfully uninstalled azureml-dataprep-rslex-2.16.4\n  Attempting uninstall: numpy\n    Found existing installation: numpy 1.24.2\n    Uninstalling numpy-1.24.2:\n      Successfully uninstalled numpy-1.24.2\n  Attempting uninstall: pyarrow\n    Found existing installation: pyarrow 11.0.0\n    Uninstalling pyarrow-11.0.0:\n      Successfully uninstalled pyarrow-11.0.0\n  Attempting uninstall: cryptography\n    Found existing installation: cryptography 40.0.1\n    Uninstalling cryptography-40.0.1:\n      Successfully uninstalled cryptography-40.0.1\n  Attempting uninstall: pyopenssl\n    Found existing installation: pyOpenSSL 23.1.1\n    Uninstalling pyOpenSSL-23.1.1:\n      Successfully uninstalled pyOpenSSL-23.1.1\n  Attempting uninstall: msal\n    Found existing installation: msal 1.21.0\n    Uninstalling msal-1.21.0:\n      Successfully uninstalled msal-1.21.0\n  Attempting uninstall: azureml-core\n    Found existing installation: azureml-core 1.49.0\n    Uninstalling azureml-core-1.49.0:\n      Successfully uninstalled azureml-core-1.49.0\n  Attempting uninstall: azureml-dataprep\n    Found existing installation: azureml-dataprep 4.9.5\n    Uninstalling azureml-dataprep-4.9.5:\n      Successfully uninstalled azureml-dataprep-4.9.5\n\u001b[31mERROR: pip's dependency resolver does not currently take into account all the packages that are installed. This behaviour is the source of the following dependency conflicts.\nmltable 1.2.0 requires azureml-dataprep[parquet]<4.10.0a,>=4.9.0a, but you have azureml-dataprep 4.10.8 which is incompatible.\nmltable 1.2.0 requires cryptography!=1.9,!=2.0.*,!=2.1.*,!=2.2.*,<41, but you have cryptography 41.0.1 which is incompatible.\nmlflow 2.2.2 requires pytz<2023, but you have pytz 2023.3 which is incompatible.\nazureml-mlflow 1.49.0 requires azure-storage-blob<=12.13.0,>=12.5.0, but you have azure-storage-blob 12.15.0 which is incompatible.\nazureml-fsspec 0.1.0b3 requires azureml-dataprep<4.9.0a,>=4.8.0a, but you have azureml-dataprep 4.10.8 which is incompatible.\u001b[0m\u001b[31m\n\u001b[0mSuccessfully installed applicationinsights-0.11.10 azureml-automl-core-1.51.0.post1 azureml-core-1.51.0.post1 azureml-dataprep-4.10.8 azureml-dataprep-rslex-2.17.12 azureml-dataset-runtime-1.51.0 azureml-pipeline-1.51.0 azureml-pipeline-core-1.51.0 azureml-pipeline-steps-1.51.0 azureml-sdk-1.51.0 azureml-telemetry-1.51.0 azureml-train-automl-client-1.51.0.post1 azureml-train-core-1.51.0 azureml-train-restclients-hyperdrive-1.51.0 cryptography-41.0.1 fusepy-3.0.1 msal-1.22.0 numpy-1.23.5 pyarrow-9.0.0 pyopenssl-23.2.0\nNote: you may need to restart the kernel to use updated packages.\n"
        }
      ],
      "execution_count": 3,
      "metadata": {
        "jupyter": {
          "source_hidden": false,
          "outputs_hidden": false
        },
        "nteract": {
          "transient": {
            "deleting": false
          }
        },
        "gather": {
          "logged": 1686920713087
        }
      }
    },
    {
      "cell_type": "code",
      "source": [
        "pip install azureml-core"
      ],
      "outputs": [
        {
          "output_type": "stream",
          "name": "stdout",
          "text": "Requirement already satisfied: azureml-core in /anaconda/envs/azureml_py310_sdkv2/lib/python3.10/site-packages (1.51.0.post1)\nRequirement already satisfied: azure-mgmt-containerregistry<11,>=8.2.0 in /anaconda/envs/azureml_py310_sdkv2/lib/python3.10/site-packages (from azureml-core) (10.1.0)\nRequirement already satisfied: azure-mgmt-authorization<4,>=0.40.0 in /anaconda/envs/azureml_py310_sdkv2/lib/python3.10/site-packages (from azureml-core) (3.0.0)\nRequirement already satisfied: azure-graphrbac<1.0.0,>=0.40.0 in /anaconda/envs/azureml_py310_sdkv2/lib/python3.10/site-packages (from azureml-core) (0.61.1)\nRequirement already satisfied: SecretStorage<4.0.0 in /anaconda/envs/azureml_py310_sdkv2/lib/python3.10/site-packages (from azureml-core) (3.3.3)\nRequirement already satisfied: azure-mgmt-storage<=21.0.0,>=16.0.0 in /anaconda/envs/azureml_py310_sdkv2/lib/python3.10/site-packages (from azureml-core) (20.1.0)\nRequirement already satisfied: jsonpickle<4.0.0 in /anaconda/envs/azureml_py310_sdkv2/lib/python3.10/site-packages (from azureml-core) (2.2.0)\nRequirement already satisfied: PyJWT<3.0.0 in /anaconda/envs/azureml_py310_sdkv2/lib/python3.10/site-packages (from azureml-core) (2.6.0)\nRequirement already satisfied: azure-core<2.0.0 in /anaconda/envs/azureml_py310_sdkv2/lib/python3.10/site-packages (from azureml-core) (1.26.4)\nRequirement already satisfied: python-dateutil<3.0.0,>=2.7.3 in /anaconda/envs/azureml_py310_sdkv2/lib/python3.10/site-packages (from azureml-core) (2.8.2)\nRequirement already satisfied: pathspec<1.0.0 in /anaconda/envs/azureml_py310_sdkv2/lib/python3.10/site-packages (from azureml-core) (0.11.1)\nRequirement already satisfied: jmespath<2.0.0 in /anaconda/envs/azureml_py310_sdkv2/lib/python3.10/site-packages (from azureml-core) (1.0.1)\nRequirement already satisfied: requests[socks]<3.0.0,>=2.19.1 in /anaconda/envs/azureml_py310_sdkv2/lib/python3.10/site-packages (from azureml-core) (2.28.2)\nRequirement already satisfied: humanfriendly<11.0,>=4.7 in /anaconda/envs/azureml_py310_sdkv2/lib/python3.10/site-packages (from azureml-core) (10.0)\nRequirement already satisfied: packaging<=23.0,>=20.0 in /anaconda/envs/azureml_py310_sdkv2/lib/python3.10/site-packages (from azureml-core) (21.3)\nRequirement already satisfied: contextlib2<22.0.0 in /anaconda/envs/azureml_py310_sdkv2/lib/python3.10/site-packages (from azureml-core) (21.6.0)\nRequirement already satisfied: argcomplete<3 in /anaconda/envs/azureml_py310_sdkv2/lib/python3.10/site-packages (from azureml-core) (2.1.2)\nRequirement already satisfied: pkginfo in /anaconda/envs/azureml_py310_sdkv2/lib/python3.10/site-packages (from azureml-core) (1.9.6)\nRequirement already satisfied: cryptography!=1.9,!=2.0.*,!=2.1.*,!=2.2.*,>=41 in /anaconda/envs/azureml_py310_sdkv2/lib/python3.10/site-packages (from azureml-core) (41.0.1)\nRequirement already satisfied: msrestazure<=0.6.4,>=0.4.33 in /anaconda/envs/azureml_py310_sdkv2/lib/python3.10/site-packages (from azureml-core) (0.6.4)\nRequirement already satisfied: backports.tempfile in /anaconda/envs/azureml_py310_sdkv2/lib/python3.10/site-packages (from azureml-core) (1.0)\nRequirement already satisfied: pytz in /anaconda/envs/azureml_py310_sdkv2/lib/python3.10/site-packages (from azureml-core) (2023.3)\nRequirement already satisfied: azure-mgmt-resource<=22.0.0,>=15.0.0 in /anaconda/envs/azureml_py310_sdkv2/lib/python3.10/site-packages (from azureml-core) (21.2.1)\nRequirement already satisfied: azure-common<2.0.0,>=1.1.12 in /anaconda/envs/azureml_py310_sdkv2/lib/python3.10/site-packages (from azureml-core) (1.1.28)\nRequirement already satisfied: msal<2.0.0,>=1.15.0 in /anaconda/envs/azureml_py310_sdkv2/lib/python3.10/site-packages (from azureml-core) (1.22.0)\nRequirement already satisfied: ndg-httpsclient<=0.5.1 in /anaconda/envs/azureml_py310_sdkv2/lib/python3.10/site-packages (from azureml-core) (0.5.1)\nRequirement already satisfied: pyopenssl<24.0.0 in /anaconda/envs/azureml_py310_sdkv2/lib/python3.10/site-packages (from azureml-core) (23.2.0)\nRequirement already satisfied: adal<=1.2.7,>=1.2.0 in /anaconda/envs/azureml_py310_sdkv2/lib/python3.10/site-packages (from azureml-core) (1.2.7)\nRequirement already satisfied: docker<7.0.0 in /anaconda/envs/azureml_py310_sdkv2/lib/python3.10/site-packages (from azureml-core) (6.0.1)\nRequirement already satisfied: msal-extensions<=1.0.0,>=0.3.0 in /anaconda/envs/azureml_py310_sdkv2/lib/python3.10/site-packages (from azureml-core) (1.0.0)\nRequirement already satisfied: urllib3<2.0.0,>=1.23 in /anaconda/envs/azureml_py310_sdkv2/lib/python3.10/site-packages (from azureml-core) (1.26.15)\nRequirement already satisfied: msrest<=0.7.1,>=0.5.1 in /anaconda/envs/azureml_py310_sdkv2/lib/python3.10/site-packages (from azureml-core) (0.7.1)\nRequirement already satisfied: azure-mgmt-keyvault<11.0.0,>=0.40.0 in /anaconda/envs/azureml_py310_sdkv2/lib/python3.10/site-packages (from azureml-core) (10.2.1)\nRequirement already satisfied: paramiko<4.0.0,>=2.0.8 in /anaconda/envs/azureml_py310_sdkv2/lib/python3.10/site-packages (from azureml-core) (2.12.0)\nRequirement already satisfied: knack~=0.10.0 in /anaconda/envs/azureml_py310_sdkv2/lib/python3.10/site-packages (from azureml-core) (0.10.1)\nRequirement already satisfied: typing-extensions>=4.3.0 in /anaconda/envs/azureml_py310_sdkv2/lib/python3.10/site-packages (from azure-core<2.0.0->azureml-core) (4.5.0)\nRequirement already satisfied: six>=1.11.0 in /anaconda/envs/azureml_py310_sdkv2/lib/python3.10/site-packages (from azure-core<2.0.0->azureml-core) (1.16.0)\nRequirement already satisfied: azure-mgmt-core<2.0.0,>=1.3.2 in /anaconda/envs/azureml_py310_sdkv2/lib/python3.10/site-packages (from azure-mgmt-authorization<4,>=0.40.0->azureml-core) (1.4.0)\nRequirement already satisfied: isodate<1.0.0,>=0.6.1 in /anaconda/envs/azureml_py310_sdkv2/lib/python3.10/site-packages (from azure-mgmt-keyvault<11.0.0,>=0.40.0->azureml-core) (0.6.1)\nRequirement already satisfied: cffi>=1.12 in /anaconda/envs/azureml_py310_sdkv2/lib/python3.10/site-packages (from cryptography!=1.9,!=2.0.*,!=2.1.*,!=2.2.*,>=41->azureml-core) (1.15.1)\nRequirement already satisfied: websocket-client>=0.32.0 in /anaconda/envs/azureml_py310_sdkv2/lib/python3.10/site-packages (from docker<7.0.0->azureml-core) (1.5.1)\nRequirement already satisfied: pyyaml in /anaconda/envs/azureml_py310_sdkv2/lib/python3.10/site-packages (from knack~=0.10.0->azureml-core) (6.0)\nRequirement already satisfied: pygments in /anaconda/envs/azureml_py310_sdkv2/lib/python3.10/site-packages (from knack~=0.10.0->azureml-core) (2.11.2)\nRequirement already satisfied: tabulate in /anaconda/envs/azureml_py310_sdkv2/lib/python3.10/site-packages (from knack~=0.10.0->azureml-core) (0.9.0)\nRequirement already satisfied: portalocker<3,>=1.0 in /anaconda/envs/azureml_py310_sdkv2/lib/python3.10/site-packages (from msal-extensions<=1.0.0,>=0.3.0->azureml-core) (2.7.0)\nRequirement already satisfied: requests-oauthlib>=0.5.0 in /anaconda/envs/azureml_py310_sdkv2/lib/python3.10/site-packages (from msrest<=0.7.1,>=0.5.1->azureml-core) (1.3.1)\nRequirement already satisfied: certifi>=2017.4.17 in /anaconda/envs/azureml_py310_sdkv2/lib/python3.10/site-packages (from msrest<=0.7.1,>=0.5.1->azureml-core) (2022.12.7)\nRequirement already satisfied: pyasn1>=0.1.1 in /anaconda/envs/azureml_py310_sdkv2/lib/python3.10/site-packages (from ndg-httpsclient<=0.5.1->azureml-core) (0.4.8)\nRequirement already satisfied: pyparsing!=3.0.5,>=2.0.2 in /anaconda/envs/azureml_py310_sdkv2/lib/python3.10/site-packages (from packaging<=23.0,>=20.0->azureml-core) (3.0.9)\nRequirement already satisfied: bcrypt>=3.1.3 in /anaconda/envs/azureml_py310_sdkv2/lib/python3.10/site-packages (from paramiko<4.0.0,>=2.0.8->azureml-core) (4.0.1)\nRequirement already satisfied: pynacl>=1.0.1 in /anaconda/envs/azureml_py310_sdkv2/lib/python3.10/site-packages (from paramiko<4.0.0,>=2.0.8->azureml-core) (1.5.0)\nRequirement already satisfied: charset-normalizer<4,>=2 in /anaconda/envs/azureml_py310_sdkv2/lib/python3.10/site-packages (from requests[socks]<3.0.0,>=2.19.1->azureml-core) (3.1.0)\nRequirement already satisfied: idna<4,>=2.5 in /anaconda/envs/azureml_py310_sdkv2/lib/python3.10/site-packages (from requests[socks]<3.0.0,>=2.19.1->azureml-core) (3.4)\nRequirement already satisfied: PySocks!=1.5.7,>=1.5.6 in /anaconda/envs/azureml_py310_sdkv2/lib/python3.10/site-packages (from requests[socks]<3.0.0,>=2.19.1->azureml-core) (1.7.1)\nRequirement already satisfied: jeepney>=0.6 in /anaconda/envs/azureml_py310_sdkv2/lib/python3.10/site-packages (from SecretStorage<4.0.0->azureml-core) (0.8.0)\nRequirement already satisfied: backports.weakref in /anaconda/envs/azureml_py310_sdkv2/lib/python3.10/site-packages (from backports.tempfile->azureml-core) (1.0.post1)\nRequirement already satisfied: pycparser in /anaconda/envs/azureml_py310_sdkv2/lib/python3.10/site-packages (from cffi>=1.12->cryptography!=1.9,!=2.0.*,!=2.1.*,!=2.2.*,>=41->azureml-core) (2.21)\nRequirement already satisfied: oauthlib>=3.0.0 in /anaconda/envs/azureml_py310_sdkv2/lib/python3.10/site-packages (from requests-oauthlib>=0.5.0->msrest<=0.7.1,>=0.5.1->azureml-core) (3.2.2)\nNote: you may need to restart the kernel to use updated packages.\n"
        }
      ],
      "execution_count": 4,
      "metadata": {
        "jupyter": {
          "source_hidden": false,
          "outputs_hidden": false
        },
        "nteract": {
          "transient": {
            "deleting": false
          }
        },
        "gather": {
          "logged": 1686920716671
        }
      }
    },
    {
      "cell_type": "code",
      "source": [
        "import azureml.core\r\n",
        "print(azureml.core.VERSION)\r\n"
      ],
      "outputs": [
        {
          "output_type": "stream",
          "name": "stdout",
          "text": "1.49.0\n"
        }
      ],
      "execution_count": 5,
      "metadata": {
        "jupyter": {
          "source_hidden": false,
          "outputs_hidden": false
        },
        "nteract": {
          "transient": {
            "deleting": false
          }
        },
        "gather": {
          "logged": 1686920716959
        }
      }
    },
    {
      "cell_type": "code",
      "source": [
        "from azure.ai.ml import MLClient # Importing the MLClient class from the azure.ai.ml module\n",
        "from azure.identity import DefaultAzureCredential # Importing the DefaultAzureCredential class from the azure.identity module\n",
        "from azure.ai.ml import command, Input, Output, dsl  # Importing the command, Input, Output, and dsl classes from the azure.ai.ml module"
      ],
      "outputs": [],
      "execution_count": 6,
      "metadata": {
        "gather": {
          "logged": 1686920719077
        }
      }
    },
    {
      "attachments": {},
      "cell_type": "markdown",
      "source": [
        "**Azure authentication**"
      ],
      "metadata": {}
    },
    {
      "cell_type": "code",
      "source": [
        "#add your authentication details\n",
        "subscription_id = \"1c6d9ef7-1867-436f-986f-f37c475a295b\"\n",
        "resource_group = \"testml\"\n",
        "workspace = \"azureml\""
      ],
      "outputs": [],
      "execution_count": 7,
      "metadata": {
        "gather": {
          "logged": 1686920719459
        }
      }
    },
    {
      "cell_type": "markdown",
      "source": [
        "We could define Azure to not log verbose configuration messages by specifying the log settings to only include warnings."
      ],
      "metadata": {}
    },
    {
      "cell_type": "code",
      "source": [
        "logger = logging.getLogger(\"azure.core.pipeline.policies.http_logging_policy\")\n",
        "# Get the logger instance for the \"azure.core.pipeline.policies.http_logging_policy\" logger.\n",
        "# This logger is used for logging HTTP requests and responses in the Azure SDK pipeline.\n",
        "logger.setLevel(logging.WARNING)\n",
        "# Set the logging level for the logger to WARNING.\n",
        "# This means that only log messages with a severity level of WARNING or higher will be logged.\n",
        "# Log messages with lower severity levels, such as INFO or DEBUG, will be ignored."
      ],
      "outputs": [],
      "execution_count": 8,
      "metadata": {
        "gather": {
          "logged": 1686920728048
        }
      }
    },
    {
      "cell_type": "code",
      "source": [
        "az_credentials = DefaultAzureCredential(\n",
        "    exclude_interactive_browser_credential=False\n",
        ")\n",
        "# Create an instance of DefaultAzureCredential.\n",
        "# The DefaultAzureCredential class is used for authenticating with Azure services using default Azure Active Directory credentials."
      ],
      "outputs": [],
      "execution_count": 9,
      "metadata": {
        "gather": {
          "logged": 1686920729001
        }
      }
    },
    {
      "cell_type": "code",
      "source": [
        "# The code creates an instance of the MLClient class with the provided parameters.\n",
        "\n",
        "ml_client = MLClient(\n",
        "    az_credentials, subscription_id, resource_group, workspace\n",
        ")"
      ],
      "outputs": [],
      "execution_count": 10,
      "metadata": {
        "gather": {
          "logged": 1686920730376
        }
      }
    },
    {
      "cell_type": "markdown",
      "source": [
        "**Note: Upload the dataset as Data asset with name \"car_mpg_jun\"**"
      ],
      "metadata": {
        "nteract": {
          "transient": {
            "deleting": false
          }
        }
      }
    },
    {
      "cell_type": "code",
      "source": [
        "# The code retrieves a list of registered data assets using the ml_client object and prints their names.\n",
        "for registered_data in ml_client.data.list():\n",
        "    print(registered_data.name)"
      ],
      "outputs": [
        {
          "output_type": "stream",
          "name": "stdout",
          "text": "check\nairbnb_data\ncar_mpg_jun\nadvertising\n"
        }
      ],
      "execution_count": 11,
      "metadata": {
        "gather": {
          "logged": 1686920731387
        }
      }
    },
    {
      "cell_type": "markdown",
      "source": [
        "### Create a compute resource to run the job\r\n",
        "\r\n",
        "Azure Machine Learning needs a compute resource to run a job. This resource can be single or multi-node machines with Linux or Windows OS, or a specific compute fabric like Spark.\r\n",
        "\r\n",
        "We only need a basic cluster for this task; thus, we'll pick a Standard_D2_v3 model with 2 CPU cores and 7 GB RAM to create an Azure Machine Learning compute."
      ],
      "metadata": {
        "nteract": {
          "transient": {
            "deleting": false
          }
        }
      }
    },
    {
      "cell_type": "code",
      "source": [
        "from azure.ai.ml.entities import AmlCompute\r\n",
        "\r\n",
        "# Name assigned to the compute cluster\r\n",
        "cpu_compute_target = \"cpu-cluster\"\r\n",
        "\r\n",
        "try:\r\n",
        "    # let's see if the compute target already exists\r\n",
        "    cpu_cluster = ml_client.compute.get(cpu_compute_target)\r\n",
        "    print(\r\n",
        "        f\"You already have a cluster named {cpu_compute_target}, we'll reuse it as is.\"\r\n",
        "    )\r\n",
        "\r\n",
        "except Exception:\r\n",
        "    print(\"Creating a new cpu compute target...\")\r\n",
        "\r\n",
        "    # Let's create the Azure ML compute object with the intended parameters\r\n",
        "    cpu_cluster = AmlCompute(\r\n",
        "        name=cpu_compute_target,\r\n",
        "        # Azure ML Compute is the on-demand VM service\r\n",
        "        type=\"amlcompute\",\r\n",
        "        # VM Family\r\n",
        "        size=\"STANDARD_D2_V3\",\r\n",
        "        # Minimum running nodes when there is no job running\r\n",
        "        min_instances=0,\r\n",
        "        # Nodes in cluster\r\n",
        "        max_instances=1,\r\n",
        "        # How many seconds will the node running after the job termination\r\n",
        "        idle_time_before_scale_down=180,\r\n",
        "        # Dedicated or LowPriority. The latter is cheaper but there is a chance of job termination\r\n",
        "        tier=\"Dedicated\",\r\n",
        "    )\r\n",
        "\r\n",
        "    # Now, we pass the object to MLClient's create_or_update method\r\n",
        "    cpu_cluster = ml_client.compute.begin_create_or_update(cpu_cluster).result()\r\n",
        "\r\n",
        "print(\r\n",
        "    f\"AMLCompute with name {cpu_cluster.name} is created, the compute size is {cpu_cluster.size}\"\r\n",
        ")"
      ],
      "outputs": [
        {
          "output_type": "stream",
          "name": "stdout",
          "text": "Creating a new cpu compute target...\nAMLCompute with name cpu-cluster is created, the compute size is STANDARD_D2_V3\n"
        }
      ],
      "execution_count": 12,
      "metadata": {
        "jupyter": {
          "source_hidden": false,
          "outputs_hidden": false
        },
        "nteract": {
          "transient": {
            "deleting": false
          }
        },
        "gather": {
          "logged": 1686920776218
        }
      }
    },
    {
      "attachments": {},
      "cell_type": "markdown",
      "source": [
        "# Azure Pipelines"
      ],
      "metadata": {}
    },
    {
      "attachments": {},
      "cell_type": "markdown",
      "source": [
        "## Step 1: Preprocessing"
      ],
      "metadata": {}
    },
    {
      "cell_type": "code",
      "source": [
        "# The code retrieves a specific version of a registered data asset using the ml_client object.\r\n",
        "car_mpg = ml_client.data.get(\"car_mpg_jun\", version=\"1\")"
      ],
      "outputs": [],
      "execution_count": 13,
      "metadata": {
        "gather": {
          "logged": 1686920776858
        }
      }
    },
    {
      "cell_type": "markdown",
      "source": [
        "Note: Create a folder and name it \"data_prep\" (which can be used as a directory to store the script) "
      ],
      "metadata": {
        "nteract": {
          "transient": {
            "deleting": false
          }
        }
      }
    },
    {
      "cell_type": "markdown",
      "source": [
        "**The code writes the contents of the processing script to a file named \"tts.py\" in the \"data_prep\" folder.**"
      ],
      "metadata": {
        "nteract": {
          "transient": {
            "deleting": false
          }
        }
      }
    },
    {
      "cell_type": "code",
      "source": [
        "%%writefile data_prep/tts.py\r\n",
        "\r\n",
        "import os\r\n",
        "import argparse\r\n",
        "\r\n",
        "import logging\r\n",
        "import mlflow\r\n",
        "\r\n",
        "import pandas as pd\r\n",
        "\r\n",
        "from sklearn.model_selection import train_test_split\r\n",
        "\r\n",
        "\r\n",
        "def main():\r\n",
        "    \"\"\"Main function of the script.\"\"\"\r\n",
        "\r\n",
        "    # input and output arguments\r\n",
        "    parser = argparse.ArgumentParser()\r\n",
        "    parser.add_argument(\"--data\", type=str, help=\"path to input data\")\r\n",
        "    parser.add_argument(\"--test_train_ratio\", type=float, required=False, default=0.2)\r\n",
        "    parser.add_argument(\"--train_data\", type=str, help=\"path to train data\")\r\n",
        "    parser.add_argument(\"--test_data\", type=str, help=\"path to test data\")\r\n",
        "    args = parser.parse_args()\r\n",
        "\r\n",
        "    # Start Logging\r\n",
        "    mlflow.start_run()\r\n",
        "\r\n",
        "    print(\" \".join(f\"{k}={v}\" for k, v in vars(args).items()))\r\n",
        "\r\n",
        "    print(\"input data:\", args.data)\r\n",
        "\r\n",
        "    df = pd.read_csv(args.data)\r\n",
        "\r\n",
        "    train_df, test_df = train_test_split(\r\n",
        "        df,\r\n",
        "        test_size=args.test_train_ratio,\r\n",
        "        random_state=42\r\n",
        "    )\r\n",
        "\r\n",
        "    # output paths are mounted as folder, therefore, we are adding a filename to the path\r\n",
        "    train_df.to_csv(os.path.join(args.train_data, \"data.csv\"), index=False)\r\n",
        "\r\n",
        "    test_df.to_csv(os.path.join(args.test_data, \"data.csv\"), index=False)\r\n",
        "\r\n",
        "    # Stop Logging\r\n",
        "    mlflow.end_run()\r\n",
        "\r\n",
        "\r\n",
        "if __name__ == \"__main__\":\r\n",
        "    main()"
      ],
      "outputs": [
        {
          "output_type": "stream",
          "name": "stdout",
          "text": "Writing data_prep/tts.py\n"
        }
      ],
      "execution_count": 15,
      "metadata": {
        "jupyter": {
          "source_hidden": false,
          "outputs_hidden": false
        },
        "nteract": {
          "transient": {
            "deleting": false
          }
        }
      }
    },
    {
      "cell_type": "markdown",
      "source": [
        "**The code defines a data preparation step as a command using the command() function**"
      ],
      "metadata": {
        "nteract": {
          "transient": {
            "deleting": false
          }
        }
      }
    },
    {
      "cell_type": "code",
      "source": [
        "# Define a data preparation step\n",
        "step_process = command(\n",
        "    name=\"data_prep_car_mpg\", # Name of the step\n",
        "    display_name=\"Data preparation for training\", # Display name of the step\n",
        "    description=\"read a .csv input, split the input to train and test\", # Description of the step\n",
        "    inputs={\n",
        "        \"data\": Input(type=\"uri_folder\"), # Input named \"data\" of type \"uri_folder\"\n",
        "        \"test_train_ratio\": Input(type=\"number\"), # Input named \"test_train_ratio\" of type \"number\"\n",
        "    },\n",
        "    outputs=dict(\n",
        "        train_data=Output(type=\"uri_folder\", mode=\"rw_mount\"),  # Output named \"train_data\" of type \"uri_folder\" with read-write mount mode\n",
        "        test_data=Output(type=\"uri_folder\", mode=\"rw_mount\"), # Output named \"test_data\" of type \"uri_folder\" with read-write mount mode\n",
        "    ),\n",
        "    # The source folder of the component\n",
        "    code='data_prep/', # Source folder of the component\n",
        "    command=\"\"\"python tts.py \\\n",
        "            --data ${{inputs.data}} --test_train_ratio ${{inputs.test_train_ratio}} \\\n",
        "            --train_data ${{outputs.train_data}} --test_data ${{outputs.test_data}} \\\n",
        "            \"\"\", # Command to be executed\n",
        "    environment=\"AzureML-sklearn-1.0-ubuntu20.04-py38-cpu@latest\", # Environment for executing the command\n",
        ")"
      ],
      "outputs": [],
      "execution_count": 16,
      "metadata": {
        "gather": {
          "logged": 1686920834720
        }
      }
    },
    {
      "cell_type": "markdown",
      "source": [
        "**The code retrieves the component associated with the step_process**"
      ],
      "metadata": {
        "nteract": {
          "transient": {
            "deleting": false
          }
        }
      }
    },
    {
      "cell_type": "code",
      "source": [
        "step_process.component"
      ],
      "outputs": [
        {
          "output_type": "execute_result",
          "execution_count": 17,
          "data": {
            "text/plain": "CommandComponent({'auto_increment_version': True, 'source': 'BUILDER', 'is_anonymous': False, 'name': 'data_prep_car_mpg', 'description': 'read a .csv input, split the input to train and test', 'tags': {}, 'properties': {}, 'print_as_yaml': True, 'id': None, 'Resource__source_path': None, 'base_path': PosixPath('.'), 'creation_context': None, 'serialize': <msrest.serialization.Serializer object at 0x7f70e0862470>, 'command': 'python tts.py             --data ${{inputs.data}} --test_train_ratio ${{inputs.test_train_ratio}}             --train_data ${{outputs.train_data}} --test_data ${{outputs.test_data}}             ', 'code': 'data_prep/', 'environment_variables': None, 'environment': 'AzureML-sklearn-1.0-ubuntu20.04-py38-cpu@latest', 'distribution': None, 'resources': None, 'queue_settings': None, 'version': None, 'latest_version': None, 'schema': None, 'type': 'command', 'display_name': 'Data preparation for training', 'is_deterministic': True, 'inputs': {'data': {'type': 'uri_folder'}, 'test_train_ratio': {'type': 'number'}}, 'outputs': {'train_data': {'type': 'uri_folder', 'mode': 'rw_mount'}, 'test_data': {'type': 'uri_folder', 'mode': 'rw_mount'}}, 'yaml_str': None, 'other_parameter': {}})"
          },
          "metadata": {}
        }
      ],
      "execution_count": 17,
      "metadata": {
        "gather": {
          "logged": 1686920837265
        }
      }
    },
    {
      "attachments": {},
      "cell_type": "markdown",
      "source": [
        "## Step 2: Training"
      ],
      "metadata": {}
    },
    {
      "cell_type": "markdown",
      "source": [
        "Note: Create a folder and name it \"train\" (which can be used as a directory to store the script) "
      ],
      "metadata": {
        "nteract": {
          "transient": {
            "deleting": false
          }
        }
      }
    },
    {
      "cell_type": "markdown",
      "source": [
        "**The code writes the contents of the training script to a file named \"gbr.py\" in the \"train\"**"
      ],
      "metadata": {
        "nteract": {
          "transient": {
            "deleting": false
          }
        }
      }
    },
    {
      "cell_type": "code",
      "source": [
        "%%writefile train/gbr.py\r\n",
        "\r\n",
        "import os\r\n",
        "import mlflow\r\n",
        "import argparse\r\n",
        "\r\n",
        "import pandas as pd\r\n",
        "\r\n",
        "from sklearn.preprocessing import StandardScaler, OneHotEncoder\r\n",
        "from sklearn.pipeline import make_pipeline\r\n",
        "from sklearn.compose import make_column_transformer\r\n",
        "\r\n",
        "from sklearn.model_selection import train_test_split\r\n",
        "\r\n",
        "from sklearn.ensemble import GradientBoostingRegressor\r\n",
        "\r\n",
        "mlflow.start_run() # Start a new MLflow run\r\n",
        "\r\n",
        "os.makedirs(\"./outputs\", exist_ok=True) # Create the \"outputs\" directory if it doesn't exist\r\n",
        "\r\n",
        "\r\n",
        "def select_first_file(path):\r\n",
        "    \"\"\"Selects first file in folder, use under assumption there is only one file in folder\r\n",
        "    Args:\r\n",
        "        path (str): path to directory or file to choose\r\n",
        "    Returns:\r\n",
        "        str: full path of selected file\r\n",
        "    \"\"\"\r\n",
        "    files = os.listdir(path)\r\n",
        "    return os.path.join(path, files[0])\r\n",
        "\r\n",
        "\r\n",
        "def main():\r\n",
        "\r\n",
        "    parser = argparse.ArgumentParser()\r\n",
        "    parser.add_argument(\"--train_data\", type=str, help=\"path to train data\")\r\n",
        "    parser.add_argument(\"--test_data\", type=str, help=\"path to test data\")\r\n",
        "    parser.add_argument(\"--n_estimators\", required=False, default=100, type=int)\r\n",
        "    parser.add_argument(\"--learning_rate\", required=False, default=0.1, type=float)\r\n",
        "    parser.add_argument(\"--registered_model_name\", type=str, help=\"model name\")\r\n",
        "    parser.add_argument(\"--model\", type=str, help=\"path to model file\")\r\n",
        "    args = parser.parse_args() # Parse the command-line arguments\r\n",
        "\r\n",
        "    car_mpg_train = pd.read_csv(select_first_file(args.train_data))  # Read the training data\r\n",
        "    car_mpg_test = pd.read_csv(select_first_file(args.test_data)) # Read the test data\r\n",
        "\r\n",
        "    target = 'mpg'\r\n",
        "    numeric_features = ['cyl','disp','hp','wt','acc','yr','origin','car_type',]\r\n",
        "\r\n",
        "    # Extract the features from the training data\r\n",
        "    X_train = car_mpg_train.drop(columns=[target]) \r\n",
        "    y_train = car_mpg_train[target]\r\n",
        "\r\n",
        "    # Extract the features from the test data\r\n",
        "    X_test = car_mpg_test.drop(columns=[target])\r\n",
        "    y_test = car_mpg_test[target]\r\n",
        "\r\n",
        "    # Create a column transformer for preprocessing the numeric features\r\n",
        "    preprocessor = make_column_transformer(\r\n",
        "        (StandardScaler(), numeric_features)\r\n",
        "    )\r\n",
        "\r\n",
        "    # Create a Gradient Boosting Regressor model\r\n",
        "    model_gbr = GradientBoostingRegressor(\r\n",
        "        n_estimators=args.n_estimators,\r\n",
        "        learning_rate=args.learning_rate\r\n",
        "    )\r\n",
        "\r\n",
        "    # Create a pipeline with preprocessing and the model\r\n",
        "    model_pipeline = make_pipeline(preprocessor, model_gbr)\r\n",
        "\r\n",
        "    model_pipeline.fit(X_train, y_train)\r\n",
        "\r\n",
        "    rmse = model_pipeline.score(X_test, y_test)\r\n",
        "\r\n",
        "    mlflow.log_metric(\"RMSE\", float(rmse))\r\n",
        "\r\n",
        "    print(\"Registering model pipeline\")\r\n",
        "\r\n",
        "    mlflow.sklearn.log_model(\r\n",
        "        sk_model=model_pipeline,\r\n",
        "        registered_model_name=\"gbr-car-mpg-predictor\",\r\n",
        "        artifact_path=\"gbr-car-mpg-predictor\"\r\n",
        "    ) # Register the model pipeline in MLflow\r\n",
        "\r\n",
        "    mlflow.end_run()\r\n",
        "\r\n",
        "\r\n",
        "if __name__ == '__main__':\r\n",
        "    main()"
      ],
      "outputs": [
        {
          "output_type": "stream",
          "name": "stdout",
          "text": "Writing train/gbr.py\n"
        }
      ],
      "execution_count": 18,
      "metadata": {
        "jupyter": {
          "source_hidden": false,
          "outputs_hidden": false
        },
        "nteract": {
          "transient": {
            "deleting": false
          }
        }
      }
    },
    {
      "cell_type": "code",
      "source": [
        "step_train = command(\n",
        "    name=\"train_car_mpg_model\",\n",
        "    display_name=\"Training a car mpg model\",\n",
        "    description=\"read a .csv input, split the input to train and test\",\n",
        "    inputs={\n",
        "        \"train_data\": Input(type=\"uri_folder\"),# Input: Path to the training data (URI folder)\n",
        "        \"test_data\": Input(type=\"uri_folder\"), # Input: Path to the test data (URI folder)\n",
        "        \"learning_rate\": Input(type=\"number\"), # Input: Learning rate for the model (number)\n",
        "        \"registered_model_name\": Input(type=\"string\") # Input: Name for the registered model (string)\n",
        "    },\n",
        "    outputs=dict(\n",
        "        model=Output(type=\"uri_folder\", mode=\"rw_mount\") # Output: Path to the trained model (URI folder)\n",
        "    ),\n",
        "    # The source folder of the component\n",
        "    code='train/',\n",
        "    command=\"\"\"python gbr.py \\\n",
        "              --train_data ${{inputs.train_data}} \\\n",
        "              --test_data ${{inputs.test_data}} \\\n",
        "              --learning_rate ${{inputs.learning_rate}} \\\n",
        "              --registered_model_name ${{inputs.registered_model_name}} \\\n",
        "              --model ${{outputs.model}}\n",
        "            \"\"\",\n",
        "    environment=\"AzureML-sklearn-1.0-ubuntu20.04-py38-cpu@latest\",  # Execution environment for the command\n",
        ")"
      ],
      "outputs": [],
      "execution_count": 19,
      "metadata": {
        "gather": {
          "logged": 1686920860550
        }
      }
    },
    {
      "cell_type": "markdown",
      "source": [
        "** step_train represents a step or command in a pipeline. **"
      ],
      "metadata": {
        "nteract": {
          "transient": {
            "deleting": false
          }
        }
      }
    },
    {
      "cell_type": "code",
      "source": [
        "step_train.component"
      ],
      "outputs": [
        {
          "output_type": "execute_result",
          "execution_count": 20,
          "data": {
            "text/plain": "CommandComponent({'auto_increment_version': True, 'source': 'BUILDER', 'is_anonymous': False, 'name': 'train_car_mpg_model', 'description': 'read a .csv input, split the input to train and test', 'tags': {}, 'properties': {}, 'print_as_yaml': True, 'id': None, 'Resource__source_path': None, 'base_path': PosixPath('.'), 'creation_context': None, 'serialize': <msrest.serialization.Serializer object at 0x7f70e08632b0>, 'command': 'python gbr.py               --train_data ${{inputs.train_data}}               --test_data ${{inputs.test_data}}               --learning_rate ${{inputs.learning_rate}}               --registered_model_name ${{inputs.registered_model_name}}               --model ${{outputs.model}}\\n            ', 'code': 'train/', 'environment_variables': None, 'environment': 'AzureML-sklearn-1.0-ubuntu20.04-py38-cpu@latest', 'distribution': None, 'resources': None, 'queue_settings': None, 'version': None, 'latest_version': None, 'schema': None, 'type': 'command', 'display_name': 'Training a car mpg model', 'is_deterministic': True, 'inputs': {'train_data': {'type': 'uri_folder'}, 'test_data': {'type': 'uri_folder'}, 'learning_rate': {'type': 'number'}, 'registered_model_name': {'type': 'string'}}, 'outputs': {'model': {'type': 'uri_folder', 'mode': 'rw_mount'}}, 'yaml_str': None, 'other_parameter': {}})"
          },
          "metadata": {}
        }
      ],
      "execution_count": 20,
      "metadata": {
        "gather": {
          "logged": 1686920861953
        }
      }
    },
    {
      "attachments": {},
      "cell_type": "markdown",
      "source": [
        "## Step 3: Assemble Pipeline"
      ],
      "metadata": {}
    },
    {
      "cell_type": "code",
      "source": [
        "@dsl.pipeline(\n",
        "    compute='testlab',\n",
        "    description=\"data preparation and training pipeline\"\n",
        ")\n",
        "def car_mpg_pipeline(\n",
        "    pipeline_job_data_input,\n",
        "    pipeline_job_test_train_ratio,\n",
        "    pipeline_job_learning_rate,\n",
        "    pipeline_job_registered_model_name,\n",
        "):\n",
        "    # using data_prep_function like a python call with its own inputs\n",
        "    data_prep_job = step_process(\n",
        "        data=pipeline_job_data_input,\n",
        "        test_train_ratio=pipeline_job_test_train_ratio,\n",
        "    )\n",
        "\n",
        "    # using train_func like a python call with its own inputs\n",
        "    train_job = step_train(\n",
        "        train_data=data_prep_job.outputs.train_data,  # note: using outputs from previous step\n",
        "        test_data=data_prep_job.outputs.test_data,  # note: using outputs from previous step\n",
        "        learning_rate=pipeline_job_learning_rate,  # note: using a pipeline input as parameter\n",
        "        registered_model_name=pipeline_job_registered_model_name,\n",
        "    )\n",
        "\n",
        "    # a pipeline returns a dictionary of outputs\n",
        "    # keys will code for the pipeline output identifier\n",
        "    return {\n",
        "        \"pipeline_job_train_data\": data_prep_job.outputs.train_data,\n",
        "        \"pipeline_job_test_data\": data_prep_job.outputs.test_data,\n",
        "    }"
      ],
      "outputs": [],
      "execution_count": 25,
      "metadata": {
        "gather": {
          "logged": 1686920914293
        }
      }
    },
    {
      "cell_type": "code",
      "source": [
        "registered_model_name = \"car_mpg_model_v1\""
      ],
      "outputs": [],
      "execution_count": 26,
      "metadata": {
        "gather": {
          "logged": 1686920915543
        }
      }
    },
    {
      "cell_type": "code",
      "source": [
        "pipeline = car_mpg_pipeline(\n",
        "    pipeline_job_data_input=Input(type=\"uri_file\", path=car_mpg.path), # Input path\n",
        "    pipeline_job_test_train_ratio=0.25, # Input: Test-train ratio for data splitting\n",
        "    pipeline_job_learning_rate=0.05, # Input: Learning rate for the model\n",
        "    pipeline_job_registered_model_name=registered_model_name,  # Input: Name for the registered model\n",
        ")"
      ],
      "outputs": [],
      "execution_count": 27,
      "metadata": {
        "gather": {
          "logged": 1686920916227
        }
      }
    },
    {
      "cell_type": "markdown",
      "source": [
        "**The purpose of this code is to create or update a job**"
      ],
      "metadata": {
        "nteract": {
          "transient": {
            "deleting": false
          }
        }
      }
    },
    {
      "cell_type": "code",
      "source": [
        "pipeline_job = ml_client.jobs.create_or_update(\n",
        "    pipeline,\n",
        "    # Project's name\n",
        "    experiment_name=\"Training pipeline with registered components\"\n",
        ")"
      ],
      "outputs": [],
      "execution_count": 28,
      "metadata": {
        "gather": {
          "logged": 1686920927122
        }
      }
    },
    {
      "cell_type": "markdown",
      "source": [
        "**The code allows to stream the output of a specific job using its name**"
      ],
      "metadata": {
        "nteract": {
          "transient": {
            "deleting": false
          }
        }
      }
    },
    {
      "cell_type": "code",
      "source": [
        "ml_client.jobs.stream(pipeline_job.name)"
      ],
      "outputs": [
        {
          "output_type": "stream",
          "name": "stdout",
          "text": "RunId: cyan_holiday_bhmdzf3ww0\nWeb View: https://ml.azure.com/runs/cyan_holiday_bhmdzf3ww0?wsid=/subscriptions/1c6d9ef7-1867-436f-986f-f37c475a295b/resourcegroups/testml/workspaces/azureml\n\nStreaming logs/azureml/executionlogs.txt\n========================================\n\n[2023-06-16 13:06:39Z] Submitting 1 runs, first five are: 4bc4ff62:c02fdbd2-47fa-4207-9397-64e397eb3ccc\n[2023-06-16 13:10:54Z] Completing processing run id c02fdbd2-47fa-4207-9397-64e397eb3ccc.\n[2023-06-16 13:10:55Z] Submitting 1 runs, first five are: 3641a29c:4a29005f-c03d-443e-9fbd-4a7298b8e83d\n[2023-06-16 13:11:53Z] Completing processing run id 4a29005f-c03d-443e-9fbd-4a7298b8e83d.\n\nExecution Summary\n=================\nRunId: cyan_holiday_bhmdzf3ww0\nWeb View: https://ml.azure.com/runs/cyan_holiday_bhmdzf3ww0?wsid=/subscriptions/1c6d9ef7-1867-436f-986f-f37c475a295b/resourcegroups/testml/workspaces/azureml\n\n"
        }
      ],
      "execution_count": 29,
      "metadata": {
        "gather": {
          "logged": 1686921263173
        }
      }
    },
    {
      "cell_type": "code",
      "source": [],
      "outputs": [],
      "execution_count": null,
      "metadata": {
        "jupyter": {
          "source_hidden": false,
          "outputs_hidden": false
        },
        "nteract": {
          "transient": {
            "deleting": false
          }
        }
      }
    }
  ],
  "metadata": {
    "kernelspec": {
      "name": "python310-sdkv2",
      "language": "python",
      "display_name": "Python 3.10 - SDK v2"
    },
    "language_info": {
      "name": "python",
      "version": "3.10.10",
      "mimetype": "text/x-python",
      "codemirror_mode": {
        "name": "ipython",
        "version": 3
      },
      "pygments_lexer": "ipython3",
      "nbconvert_exporter": "python",
      "file_extension": ".py"
    },
    "orig_nbformat": 4,
    "microsoft": {
      "ms_spell_check": {
        "ms_spell_check_language": "en"
      },
      "host": {
        "AzureML": {
          "notebookHasBeenCompleted": true
        }
      }
    },
    "kernel_info": {
      "name": "python310-sdkv2"
    },
    "nteract": {
      "version": "nteract-front-end@1.0.0"
    }
  },
  "nbformat": 4,
  "nbformat_minor": 2
}